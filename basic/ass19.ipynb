{
 "cells": [
  {
   "cell_type": "code",
   "execution_count": 3,
   "id": "c39c9b48",
   "metadata": {},
   "outputs": [
    {
     "name": "stdout",
     "output_type": "stream",
     "text": [
      "the given angles form a triangle\n",
      "the triangle is isosceles\n"
     ]
    }
   ],
   "source": [
    "a = int(input())\n",
    "b = int(input())\n",
    "c = int(input())\n",
    "if (a + b > c) and (a + c > b) and (b + c > a):\n",
    "    print(\"the given angles form a triangle\")\n",
    "    if a == b == c:\n",
    "        print(\"the triangle is equilateral\")    \n",
    "    elif a == b or b == c or a == c:\n",
    "        print(\"the triangle is isosceles\")\n",
    "    else:\n",
    "        print(\"the triangle is scalene\") \n",
    "    sides = sorted([a, b, c])\n",
    "    if sides[0]**2 + sides[1]**2 == sides[2]**2:\n",
    "        print(\"the triangle is right-angled\")\n",
    "else:\n",
    "    print(\"the given angles do not form a triangle\")"
   ]
  }
 ],
 "metadata": {
  "kernelspec": {
   "display_name": "Python 3",
   "language": "python",
   "name": "python3"
  },
  "language_info": {
   "codemirror_mode": {
    "name": "ipython",
    "version": 3
   },
   "file_extension": ".py",
   "mimetype": "text/x-python",
   "name": "python",
   "nbconvert_exporter": "python",
   "pygments_lexer": "ipython3",
   "version": "3.10.7"
  }
 },
 "nbformat": 4,
 "nbformat_minor": 5
}
