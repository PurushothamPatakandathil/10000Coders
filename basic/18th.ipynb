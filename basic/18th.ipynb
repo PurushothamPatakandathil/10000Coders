{
 "cells": [
  {
   "cell_type": "code",
   "execution_count": 42,
   "id": "3380e166",
   "metadata": {},
   "outputs": [
    {
     "ename": "ValueError",
     "evalue": "invalid literal for int() with base 10: ''",
     "output_type": "error",
     "traceback": [
      "\u001b[1;31m---------------------------------------------------------------------------\u001b[0m",
      "\u001b[1;31mValueError\u001b[0m                                Traceback (most recent call last)",
      "Cell \u001b[1;32mIn[42], line 1\u001b[0m\n\u001b[1;32m----> 1\u001b[0m num \u001b[38;5;241m=\u001b[39m \u001b[38;5;28;43mint\u001b[39;49m\u001b[43m(\u001b[49m\u001b[38;5;28;43minput\u001b[39;49m\u001b[43m(\u001b[49m\u001b[43m)\u001b[49m\u001b[43m)\u001b[49m\n\u001b[0;32m      2\u001b[0m \u001b[38;5;28;01mif\u001b[39;00m num\u001b[38;5;241m>\u001b[39m\u001b[38;5;241m0\u001b[39m:\n\u001b[0;32m      3\u001b[0m     \u001b[38;5;28mprint\u001b[39m(\u001b[38;5;124m\"\u001b[39m\u001b[38;5;124mGiven num is positive\u001b[39m\u001b[38;5;124m\"\u001b[39m)\n",
      "\u001b[1;31mValueError\u001b[0m: invalid literal for int() with base 10: ''"
     ]
    }
   ],
   "source": [
    "num = int(input())\n",
    "if num>0:\n",
    "    print(\"Given num is positive\")\n",
    "elif num<0:\n",
    "    print(\"number is neagative\")\n",
    "else:\n",
    "    print(\"number is 0\")"
   ]
  },
  {
   "cell_type": "code",
   "execution_count": 7,
   "id": "90a37b1c",
   "metadata": {},
   "outputs": [
    {
     "name": "stdout",
     "output_type": "stream",
     "text": [
      "odd\n"
     ]
    }
   ],
   "source": [
    "num = int(input())\n",
    "check_num(num)\n",
    "def check_num(num):\n",
    "    if num % 2==0:\n",
    "        print(\"even\")\n",
    "        return True\n",
    "    else:\n",
    "        print(\"odd\")\n",
    "        return False"
   ]
  },
  {
   "cell_type": "code",
   "execution_count": 9,
   "id": "13dbdca9",
   "metadata": {},
   "outputs": [],
   "source": [
    "def check_num(num):\n",
    "    check_num(num)\n",
    "    if num%2==0:\n",
    "        return True\n",
    "    return False"
   ]
  },
  {
   "cell_type": "code",
   "execution_count": null,
   "id": "baeaca13",
   "metadata": {},
   "outputs": [
    {
     "name": "stdout",
     "output_type": "stream",
     "text": [
      "False\n"
     ]
    }
   ],
   "source": [
    "num = int(input())\n",
    "print(True) if num%2==0 else print(False) #writing whole funtion in a single line is \n",
    "# called terinary function this is used to write a whole function in a single line\n",
    "#this is used to write if else in sigle line this is called terinary operation"
   ]
  },
  {
   "cell_type": "code",
   "execution_count": 15,
   "id": "418f5892",
   "metadata": {},
   "outputs": [
    {
     "name": "stdout",
     "output_type": "stream",
     "text": [
      "b is greater\n"
     ]
    }
   ],
   "source": [
    "a = int(input())\n",
    "b = int(input())\n",
    "print(\"a is greater\") if a>b else print(\"b is greater\")"
   ]
  },
  {
   "cell_type": "code",
   "execution_count": 17,
   "id": "c2b9e926",
   "metadata": {},
   "outputs": [
    {
     "name": "stdout",
     "output_type": "stream",
     "text": [
      "eligible to vote\n"
     ]
    }
   ],
   "source": [
    "a = int(input())\n",
    "print(\"eligible to vote\") if a>=18 else print(\"not eligible to vote\")"
   ]
  },
  {
   "cell_type": "code",
   "execution_count": 32,
   "id": "56b5c081",
   "metadata": {},
   "outputs": [
    {
     "name": "stdout",
     "output_type": "stream",
     "text": [
      "Pass\n"
     ]
    },
    {
     "data": {
      "text/plain": [
       "60"
      ]
     },
     "execution_count": 32,
     "metadata": {},
     "output_type": "execute_result"
    }
   ],
   "source": [
    "a = int(input())\n",
    "def chek_pf(a):\n",
    "    print(\"Pass\") if a>40 else print(\"Fail\") \n",
    "    return a\n",
    "chek_pf(a)\n"
   ]
  },
  {
   "cell_type": "code",
   "execution_count": 36,
   "id": "cc0df191",
   "metadata": {},
   "outputs": [
    {
     "name": "stdout",
     "output_type": "stream",
     "text": [
      "both are equal\n"
     ]
    }
   ],
   "source": [
    "a = int(input())\n",
    "b = int(input())\n",
    "def check_gle(a,b):\n",
    "    print(\"a is greater\") if a>b else print (\"b is greater\") if b>a else print(\"both are equal\")\n",
    "check_gle(a,b)"
   ]
  },
  {
   "cell_type": "code",
   "execution_count": 40,
   "id": "709f0566",
   "metadata": {},
   "outputs": [
    {
     "name": "stdout",
     "output_type": "stream",
     "text": [
      "b is greater\n"
     ]
    }
   ],
   "source": [
    "a = int(input())\n",
    "b = int(input())\n",
    "def check_equal(a,b):\n",
    "    print(\"a is greater\" if a>b else \"b is greater\"if b>a else\"both are equal\")\n",
    "check_equal(a,b)"
   ]
  },
  {
   "cell_type": "code",
   "execution_count": 45,
   "id": "4dd1dcca",
   "metadata": {},
   "outputs": [
    {
     "name": "stdout",
     "output_type": "stream",
     "text": [
      "Wednesday\n"
     ]
    }
   ],
   "source": [
    "num = int(input())\n",
    "def check_days(num):\n",
    "    if num == 1:\n",
    "        print(\"Monday\")\n",
    "    elif num == 2:\n",
    "        print(\"Tuesday\")\n",
    "    elif num == 3:\n",
    "        print(\"Wednesday\")\n",
    "    elif num == 4:\n",
    "        print(\"Thursady\")\n",
    "    elif num == 5:\n",
    "        print(\"Friday\")\n",
    "    elif num == 6:\n",
    "        print(\"Saturday\")\n",
    "    elif num == 7:\n",
    "        print(\"Sunday\")\n",
    "    else:\n",
    "        print(\"INVALID\")\n",
    "check_days(num)"
   ]
  },
  {
   "cell_type": "code",
   "execution_count": null,
   "id": "c6d6b8e3",
   "metadata": {},
   "outputs": [
    {
     "name": "stdout",
     "output_type": "stream",
     "text": [
      "Invalid\n"
     ]
    }
   ],
   "source": [
    "a = int(input())\n",
    "if a == 0:\n",
    "    print(\"give a as non 0 values\")\n",
    "b = int(input())\n",
    "if b == 0:\n",
    "    print(\"give b as non 0 values\")  \n",
    "operator = input()\n",
    "if operator == \"+\":\n",
    "    print(a+b)\n",
    "elif operator == \"-\":\n",
    "    print(a-b)\n",
    "elif operator == \"*\":\n",
    "    print(a*b)\n",
    "elif operator == \"/\":\n",
    "    print(a/b)\n",
    "else:\n",
    "    print(\"Invalid operator\")\n"
   ]
  },
  {
   "cell_type": "code",
   "execution_count": 66,
   "id": "cec11f22",
   "metadata": {},
   "outputs": [
    {
     "data": {
      "text/plain": [
       "15.6"
      ]
     },
     "execution_count": 66,
     "metadata": {},
     "output_type": "execute_result"
    }
   ],
   "source": [
    "num1 = float(input())\n",
    "num2 = float(input())\n",
    "op = input(\"enter operator\").lower()\n",
    "def simle_calc(num1,num2):\n",
    "    if op == \"+\" or \"add\":\n",
    "        return num1+num2\n",
    "    elif op == \"-\" or \"sub\":\n",
    "        return num1-num2\n",
    "    elif op == \"*\" or \"mul\":\n",
    "        return num1*num2\n",
    "    elif op == \"/\" or \"div\":\n",
    "        return num1/num2 if num2 != 0 else \"Invalid denominator\"\n",
    "    else:\n",
    "        return \"Invalid operator\"\n",
    "simle_calc(num1,num2)\n",
    "    "
   ]
  },
  {
   "cell_type": "code",
   "execution_count": 3,
   "id": "080ccedf",
   "metadata": {},
   "outputs": [
    {
     "name": "stdout",
     "output_type": "stream",
     "text": [
      "c is greater\n"
     ]
    },
    {
     "data": {
      "text/plain": [
       "30"
      ]
     },
     "execution_count": 3,
     "metadata": {},
     "output_type": "execute_result"
    }
   ],
   "source": [
    "a = int(input())\n",
    "b = int(input())\n",
    "c = int(input())\n",
    "def check_gr(a,b,c):\n",
    "    if a>b and a>c:\n",
    "        print(\"a is greater\")\n",
    "        return a\n",
    "    elif b>a and b>c:\n",
    "        print(\"b is greater\")\n",
    "        return b\n",
    "    else:\n",
    "        print(\"c is greater\")\n",
    "        return c\n",
    "check_gr(a,b,c)\n"
   ]
  },
  {
   "cell_type": "code",
   "execution_count": 13,
   "id": "d1a34246",
   "metadata": {},
   "outputs": [
    {
     "name": "stdout",
     "output_type": "stream",
     "text": [
      "is a leap year\n"
     ]
    },
    {
     "data": {
      "text/plain": [
       "2000"
      ]
     },
     "execution_count": 13,
     "metadata": {},
     "output_type": "execute_result"
    }
   ],
   "source": [
    "num = int(input(\"Enter the desired year\"))\n",
    "def check_leepyr(num):\n",
    "    if num % 400 == 0 or num % 4 == 0 and num % 100 != 0:\n",
    "        print(\"is a leap year\")\n",
    "        return num\n",
    "    else:\n",
    "        print(\"is not a leep year\")\n",
    "        return num\n",
    "check_leepyr(num)"
   ]
  },
  {
   "cell_type": "code",
   "execution_count": 20,
   "id": "509f6c82",
   "metadata": {},
   "outputs": [
    {
     "name": "stdout",
     "output_type": "stream",
     "text": [
      "b is a consonent\n"
     ]
    }
   ],
   "source": [
    "ch = input(\"Enter an alphabet\")\n",
    "if len(ch) != 1:\n",
    "    print(\"please enter a single CHARACTER\")\n",
    "else:\n",
    "    if ch.isalpha():\n",
    "        if ch.lower() in ['a', 'e', 'i', 'o', 'u']:\n",
    "            print(ch, \"is a vowel\")\n",
    "        else:\n",
    "            print(ch, \"is a consonent\")\n",
    "    else:\n",
    "        print(\"it neither a vowel or a consonent\")"
   ]
  },
  {
   "cell_type": "code",
   "execution_count": 27,
   "id": "7971b9df",
   "metadata": {},
   "outputs": [
    {
     "name": "stdout",
     "output_type": "stream",
     "text": [
      "Fail\n"
     ]
    }
   ],
   "source": [
    "num = int(input(\"Enter the marks obtained\"))\n",
    "def Check_grade(num):\n",
    "    if num > 100:\n",
    "        print(\"Enter valid marks\")\n",
    "    elif num >= 90:\n",
    "        print(\"Grade A\")\n",
    "    elif num >= 80:\n",
    "        print(\"Grade B\")\n",
    "    elif num >= 70:\n",
    "        print(\"Grade C\")\n",
    "    elif num < 70:\n",
    "        print(\"Fail\")\n",
    "    else:\n",
    "        print(\"invalid\")\n",
    "Check_grade(num)\n",
    "    "
   ]
  },
  {
   "cell_type": "code",
   "execution_count": 33,
   "id": "53fa5da1",
   "metadata": {},
   "outputs": [
    {
     "name": "stdout",
     "output_type": "stream",
     "text": [
      "the given angles form a triangle\n"
     ]
    }
   ],
   "source": [
    "a = int(input())\n",
    "b = int(input())\n",
    "c = int(input())\n",
    "def check_tri(a,b,c):\n",
    "    if (a + b > c) and (a + c > b) and (b + c > a):\n",
    "        print(\"the given angles form a triangle\")\n",
    "    else:\n",
    "        print(\"the given angles does not form a triangle\")\n",
    "check_tri(a,b,c)"
   ]
  },
  {
   "cell_type": "code",
   "execution_count": null,
   "id": "0b34c748",
   "metadata": {},
   "outputs": [
    {
     "name": "stdout",
     "output_type": "stream",
     "text": [
      "1\n",
      "2\n",
      "3\n",
      "4\n",
      "5\n",
      "6\n",
      "7\n",
      "8\n",
      "9\n",
      "10\n",
      "11\n",
      "12\n",
      "13\n",
      "14\n",
      "15\n",
      "16\n",
      "17\n",
      "18\n",
      "19\n",
      "20\n",
      "21\n",
      "22\n",
      "23\n",
      "24\n",
      "25\n",
      "26\n",
      "27\n",
      "28\n",
      "29\n",
      "30\n",
      "31\n",
      "32\n",
      "33\n",
      "34\n",
      "35\n",
      "36\n",
      "37\n",
      "38\n",
      "39\n",
      "40\n",
      "41\n",
      "42\n",
      "43\n",
      "44\n",
      "45\n",
      "46\n",
      "47\n",
      "48\n",
      "49\n",
      "50\n",
      "51\n",
      "52\n",
      "53\n",
      "54\n",
      "55\n",
      "56\n",
      "57\n",
      "58\n",
      "59\n",
      "60\n",
      "61\n",
      "62\n",
      "63\n",
      "64\n",
      "65\n",
      "66\n",
      "67\n",
      "68\n",
      "69\n",
      "70\n",
      "71\n",
      "72\n",
      "73\n",
      "74\n",
      "75\n",
      "76\n",
      "77\n",
      "78\n",
      "79\n",
      "80\n",
      "81\n",
      "82\n",
      "83\n",
      "84\n",
      "85\n",
      "86\n",
      "87\n",
      "88\n",
      "89\n",
      "90\n",
      "91\n",
      "92\n",
      "93\n",
      "94\n",
      "95\n",
      "96\n",
      "97\n",
      "98\n",
      "99\n",
      "100\n"
     ]
    }
   ],
   "source": [
    "#Loops\n",
    "#For loop\n",
    "\n",
    "for i in range(1,101):\n",
    "    print(i)"
   ]
  },
  {
   "cell_type": "code",
   "execution_count": 44,
   "id": "0eb5c1c7",
   "metadata": {},
   "outputs": [
    {
     "name": "stdout",
     "output_type": "stream",
     "text": [
      "1 2 3 4 5 6 7 8 9 10 11 12 13 14 15 16 17 18 19 20 21 22 23 24 25 26 27 28 29 30 31 32 33 34 35 36 37 38 39 40 41 42 43 44 45 46 47 48 49 50 51 52 53 54 55 56 57 58 59 60 61 62 63 64 65 66 67 68 69 70 71 72 73 74 75 76 77 78 79 80 81 82 83 84 85 86 87 88 89 90 91 92 93 94 95 96 97 98 99 100\n"
     ]
    }
   ],
   "source": [
    "#For loop in a single line\n",
    "\n",
    "print(*range(1,101))"
   ]
  },
  {
   "cell_type": "code",
   "execution_count": null,
   "id": "15a779ad",
   "metadata": {},
   "outputs": [],
   "source": []
  },
  {
   "cell_type": "code",
   "execution_count": null,
   "id": "1a8f935f",
   "metadata": {},
   "outputs": [],
   "source": []
  },
  {
   "cell_type": "code",
   "execution_count": null,
   "id": "d382f7ed",
   "metadata": {},
   "outputs": [],
   "source": []
  },
  {
   "cell_type": "code",
   "execution_count": null,
   "id": "5d6ad060",
   "metadata": {},
   "outputs": [],
   "source": []
  },
  {
   "cell_type": "code",
   "execution_count": null,
   "id": "f67d4b67",
   "metadata": {},
   "outputs": [],
   "source": []
  }
 ],
 "metadata": {
  "kernelspec": {
   "display_name": "Python 3",
   "language": "python",
   "name": "python3"
  },
  "language_info": {
   "codemirror_mode": {
    "name": "ipython",
    "version": 3
   },
   "file_extension": ".py",
   "mimetype": "text/x-python",
   "name": "python",
   "nbconvert_exporter": "python",
   "pygments_lexer": "ipython3",
   "version": "3.10.7"
  }
 },
 "nbformat": 4,
 "nbformat_minor": 5
}
