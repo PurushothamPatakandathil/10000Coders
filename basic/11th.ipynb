{
 "cells": [
  {
   "cell_type": "code",
   "execution_count": 24,
   "id": "8f85f69d",
   "metadata": {},
   "outputs": [
    {
     "ename": "TypeError",
     "evalue": "add() missing 2 required positional arguments: 'd' and 'e'",
     "output_type": "error",
     "traceback": [
      "\u001b[1;31m---------------------------------------------------------------------------\u001b[0m",
      "\u001b[1;31mTypeError\u001b[0m                                 Traceback (most recent call last)",
      "Cell \u001b[1;32mIn[24], line 23\u001b[0m\n\u001b[0;32m     20\u001b[0m \u001b[38;5;28;01mdef\u001b[39;00m\u001b[38;5;250m \u001b[39m\u001b[38;5;21madd\u001b[39m(a,b,c,d,e):\n\u001b[0;32m     21\u001b[0m     \u001b[38;5;28mprint\u001b[39m(a\u001b[38;5;241m+\u001b[39mb\u001b[38;5;241m+\u001b[39mc\u001b[38;5;241m+\u001b[39md\u001b[38;5;241m+\u001b[39me)\n\u001b[1;32m---> 23\u001b[0m \u001b[43madd\u001b[49m\u001b[43m(\u001b[49m\u001b[38;5;241;43m1\u001b[39;49m\u001b[43m,\u001b[49m\u001b[38;5;241;43m2\u001b[39;49m\u001b[43m,\u001b[49m\u001b[38;5;241;43m3\u001b[39;49m\u001b[43m)\u001b[49m\n\u001b[0;32m     24\u001b[0m add(\u001b[38;5;241m1\u001b[39m,\u001b[38;5;241m2\u001b[39m,\u001b[38;5;241m3\u001b[39m,\u001b[38;5;241m4\u001b[39m)\n\u001b[0;32m     25\u001b[0m add(\u001b[38;5;241m1\u001b[39m,\u001b[38;5;241m2\u001b[39m,\u001b[38;5;241m3\u001b[39m,\u001b[38;5;241m4\u001b[39m,\u001b[38;5;241m5\u001b[39m)\n",
      "\u001b[1;31mTypeError\u001b[0m: add() missing 2 required positional arguments: 'd' and 'e'"
     ]
    }
   ],
   "source": [
    "def calc (num1, num2):\n",
    "    print(num1+num2)\n",
    "    print(num1/num2)\n",
    "    print(num1*num2)\n",
    "    if num2 !=0:\n",
    "        print(num1/num2)\n",
    "        print(num1//num2)\n",
    "        print(num1%num2)\n",
    "    else:\n",
    "        print(\"not divisible\")\n",
    "\n",
    "\n",
    "\n",
    "def add(a,b,c):\n",
    "    print(a+b+c)\n",
    "\n",
    "def add(a,b,c,d):\n",
    "    print(a+b+c+d)\n",
    "\n",
    "def add(a,b,c,d,e):\n",
    "    print(a+b+c+d+e)\n",
    "\n",
    "add(1,2,3)\n",
    "add(1,2,3,4)\n",
    "add(1,2,3,4,5)\n"
   ]
  },
  {
   "cell_type": "code",
   "execution_count": null,
   "id": "37f2500b",
   "metadata": {},
   "outputs": [
    {
     "name": "stdout",
     "output_type": "stream",
     "text": [
      "6\n",
      "-4\n",
      "0.16666666666666666\n"
     ]
    }
   ],
   "source": [
    "def add(a,b,c):\n",
    "    print(a+b+c)\n",
    "\n",
    "def sub(a,b,c):\n",
    "    print(a-b-c)\n",
    "\n",
    "def div(a,b,c):\n",
    "    print(a/b/c)\n",
    "\n",
    "add(1,2,3)\n",
    "sub(1,2,3)\n",
    "div(1,2,3)"
   ]
  },
  {
   "cell_type": "code",
   "execution_count": null,
   "id": "93b5aaa5",
   "metadata": {},
   "outputs": [],
   "source": [
    "we can achieve method overloading by arbitary arguments and keyword arbitary aruguents which is useful in python we can use(**) this symbol for keyword arbitary arugument \n",
    "(*)for arbitary arguments"
   ]
  },
  {
   "cell_type": "code",
   "execution_count": 29,
   "id": "e1e09a0e",
   "metadata": {},
   "outputs": [
    {
     "name": "stdout",
     "output_type": "stream",
     "text": [
      "10\n",
      "()\n",
      "<class 'int'>\n",
      "<class 'tuple'>\n",
      "10\n",
      "(6,)\n",
      "<class 'int'>\n",
      "<class 'tuple'>\n",
      "3\n",
      "(5, 6, 7, 8, 89)\n",
      "<class 'int'>\n",
      "<class 'tuple'>\n"
     ]
    },
    {
     "ename": "TypeError",
     "evalue": "add() missing 1 required positional argument: 'a'",
     "output_type": "error",
     "traceback": [
      "\u001b[1;31m---------------------------------------------------------------------------\u001b[0m",
      "\u001b[1;31mTypeError\u001b[0m                                 Traceback (most recent call last)",
      "Cell \u001b[1;32mIn[29], line 11\u001b[0m\n\u001b[0;32m      9\u001b[0m add(\u001b[38;5;241m10\u001b[39m,\u001b[38;5;241m6\u001b[39m)\n\u001b[0;32m     10\u001b[0m add(\u001b[38;5;241m3\u001b[39m,\u001b[38;5;241m5\u001b[39m,\u001b[38;5;241m6\u001b[39m,\u001b[38;5;241m7\u001b[39m,\u001b[38;5;241m8\u001b[39m,\u001b[38;5;241m89\u001b[39m)\n\u001b[1;32m---> 11\u001b[0m \u001b[43madd\u001b[49m\u001b[43m(\u001b[49m\u001b[43m)\u001b[49m\n\u001b[0;32m     12\u001b[0m add(\u001b[38;5;241m1\u001b[39m,\u001b[38;5;241m2\u001b[39m,\u001b[38;5;241m3\u001b[39m,)\n",
      "\u001b[1;31mTypeError\u001b[0m: add() missing 1 required positional argument: 'a'"
     ]
    }
   ],
   "source": [
    "#keywoord arbitary arugument\n",
    "\n",
    "def add(a,*b):\n",
    "    print(a)\n",
    "    print(b)\n",
    "    print(type(a))\n",
    "    print(type(b))\n",
    "add(10)\n",
    "add(10,6)\n",
    "add(3,5,6,7,8,89)\n",
    "add()\n",
    "add(1,2,3,)"
   ]
  },
  {
   "cell_type": "code",
   "execution_count": 30,
   "id": "a60f4c93",
   "metadata": {},
   "outputs": [
    {
     "name": "stdout",
     "output_type": "stream",
     "text": [
      "10\n",
      "10\n",
      "()\n",
      "<class 'int'>\n",
      "<class 'tuple'>\n",
      "16\n",
      "10\n",
      "(6,)\n",
      "<class 'int'>\n",
      "<class 'tuple'>\n",
      "118\n",
      "3\n",
      "(5, 6, 7, 8, 89)\n",
      "<class 'int'>\n",
      "<class 'tuple'>\n",
      "6\n",
      "1\n",
      "(2, 3)\n",
      "<class 'int'>\n",
      "<class 'tuple'>\n"
     ]
    }
   ],
   "source": [
    "def add(a,*b):\n",
    "    print(a+sum(b))\n",
    "    print(a)\n",
    "    print(b)\n",
    "    print(type(a))\n",
    "    print(type(b))\n",
    "add(10)\n",
    "add(10,6)\n",
    "add(3,5,6,7,8,89)\n",
    "add(1,2,3,)"
   ]
  },
  {
   "cell_type": "code",
   "execution_count": 31,
   "id": "35890911",
   "metadata": {},
   "outputs": [
    {
     "name": "stdout",
     "output_type": "stream",
     "text": [
      "10\n",
      "<class 'int'>\n",
      "<class 'dict'>\n"
     ]
    },
    {
     "ename": "TypeError",
     "evalue": "add() takes 1 positional argument but 2 were given",
     "output_type": "error",
     "traceback": [
      "\u001b[1;31m---------------------------------------------------------------------------\u001b[0m",
      "\u001b[1;31mTypeError\u001b[0m                                 Traceback (most recent call last)",
      "Cell \u001b[1;32mIn[31], line 6\u001b[0m\n\u001b[0;32m      4\u001b[0m     \u001b[38;5;28mprint\u001b[39m(\u001b[38;5;28mtype\u001b[39m(b))\n\u001b[0;32m      5\u001b[0m add(\u001b[38;5;241m10\u001b[39m)\n\u001b[1;32m----> 6\u001b[0m \u001b[43madd\u001b[49m\u001b[43m(\u001b[49m\u001b[38;5;241;43m10\u001b[39;49m\u001b[43m,\u001b[49m\u001b[38;5;241;43m6\u001b[39;49m\u001b[43m)\u001b[49m\n\u001b[0;32m      7\u001b[0m add(\u001b[38;5;241m3\u001b[39m,\u001b[38;5;241m5\u001b[39m,\u001b[38;5;241m6\u001b[39m,\u001b[38;5;241m7\u001b[39m,\u001b[38;5;241m8\u001b[39m,\u001b[38;5;241m89\u001b[39m)\n\u001b[0;32m      8\u001b[0m add(\u001b[38;5;241m1\u001b[39m,\u001b[38;5;241m2\u001b[39m,\u001b[38;5;241m3\u001b[39m,)\n",
      "\u001b[1;31mTypeError\u001b[0m: add() takes 1 positional argument but 2 were given"
     ]
    }
   ],
   "source": [
    "def add(a,**b):\n",
    "    print(a+sum(b))\n",
    "    print(type(a))\n",
    "    print(type(b))\n",
    "add(10)\n",
    "add(10,6)\n",
    "add(3,5,6,7,8,89)\n",
    "add(1,2,3,)"
   ]
  },
  {
   "cell_type": "code",
   "execution_count": null,
   "id": "d4541fd7",
   "metadata": {},
   "outputs": [],
   "source": [
    "\n",
    "\n",
    "\n",
    "\n",
    "\n",
    "\n",
    "\n",
    "\n",
    "\n",
    "\n",
    "\n",
    "\n",
    "\n",
    "\n",
    "\n",
    "\n"
   ]
  },
  {
   "cell_type": "code",
   "execution_count": null,
   "id": "b67cb9b3",
   "metadata": {},
   "outputs": [],
   "source": []
  },
  {
   "cell_type": "code",
   "execution_count": null,
   "id": "1fb206d2",
   "metadata": {},
   "outputs": [],
   "source": []
  },
  {
   "cell_type": "code",
   "execution_count": null,
   "id": "7cb0a254",
   "metadata": {},
   "outputs": [],
   "source": []
  }
 ],
 "metadata": {
  "kernelspec": {
   "display_name": "Python 3",
   "language": "python",
   "name": "python3"
  },
  "language_info": {
   "codemirror_mode": {
    "name": "ipython",
    "version": 3
   },
   "file_extension": ".py",
   "mimetype": "text/x-python",
   "name": "python",
   "nbconvert_exporter": "python",
   "pygments_lexer": "ipython3",
   "version": "3.10.7"
  }
 },
 "nbformat": 4,
 "nbformat_minor": 5
}
