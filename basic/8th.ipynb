{
 "cells": [
  {
   "cell_type": "code",
   "execution_count": null,
   "id": "9f01504c",
   "metadata": {},
   "outputs": [
    {
     "name": "stdout",
     "output_type": "stream",
     "text": [
      "32\n",
      "240\n",
      "3833759992447475122176\n",
      "0.6\n"
     ]
    }
   ],
   "source": [
    "def syem_calc(num1,num2):\n",
    "    print(num1+num2)\n",
    "    print(num1*num2)\n",
    "    print(num1**num2)\n",
    "    try:\n",
    "        div=num1/num2\n",
    "        print(div)\n",
    "    except:\n",
    "        print('canot div by 0')\n",
    "num1=int(input())\n",
    "num2=int(input())\n",
    "syem_calc(num1,num2)"
   ]
  },
  {
   "cell_type": "code",
   "execution_count": 5,
   "id": "11eb7327",
   "metadata": {},
   "outputs": [],
   "source": [
    "def sys_cal(num,num2):\n",
    "    for i in range(num+1):\n",
    "        print(sys_cal)"
   ]
  },
  {
   "cell_type": "code",
   "execution_count": null,
   "id": "b221c423",
   "metadata": {},
   "outputs": [],
   "source": []
  },
  {
   "cell_type": "code",
   "execution_count": null,
   "metadata": {},
   "outputs": [],
   "source": []
  },
  {
   "cell_type": "code",
   "execution_count": null,
   "id": "46f7b102",
   "metadata": {},
   "outputs": [],
   "source": []
  },
  {
   "cell_type": "code",
   "execution_count": null,
   "id": "76fa16bd",
   "metadata": {},
   "outputs": [],
   "source": []
  }
 ],
 "metadata": {
  "kernelspec": {
   "display_name": "Python 3",
   "language": "python",
   "name": "python3"
  },
  "language_info": {
   "codemirror_mode": {
    "name": "ipython",
    "version": 3
   },
   "file_extension": ".py",
   "mimetype": "text/x-python",
   "name": "python",
   "nbconvert_exporter": "python",
   "pygments_lexer": "ipython3",
   "version": "3.10.7"
  }
 },
 "nbformat": 4,
 "nbformat_minor": 5
}
