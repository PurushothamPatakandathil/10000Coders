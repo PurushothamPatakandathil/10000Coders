{
 "cells": [
  {
   "cell_type": "code",
   "execution_count": 5,
   "id": "d5958719",
   "metadata": {},
   "outputs": [
    {
     "name": "stdout",
     "output_type": "stream",
     "text": [
      "Connecting to database with arguments\n",
      "<class 'dict'>\n",
      "{'db_loc': 'localhost', 'db_port': '2206', 'db_user': '12345', 'db_pass': '35923', 'db_pool': 200}\n"
     ]
    }
   ],
   "source": [
    "def connect_to_db(**kargs):\n",
    "    print(\"Connecting to database with arguments\")\n",
    "    print(type(kargs))\n",
    "    print(kargs)\n",
    "\n",
    "connect_to_db(db_loc = 'localhost',db_port='2206',db_user=\"12345\",db_pass=\"35923\",db_pool=200)\n",
    "    \n",
    " \n",
    "    "
   ]
  },
  {
   "cell_type": "code",
   "execution_count": 14,
   "id": "fea6299c",
   "metadata": {},
   "outputs": [
    {
     "name": "stdout",
     "output_type": "stream",
     "text": [
      "Connecting to database with arguments\n",
      "('localhost', '2206', '12345', '35923')\n",
      "<class 'tuple'>\n",
      "{'db_loc': 'localhost', 'db_port': '2206', 'db_user': '12345', 'db_pass': '35923', 'db_pool': 200}\n",
      "<class 'dict'>\n"
     ]
    }
   ],
   "source": [
    "def connect_to_db(*args,**args2):\n",
    "    print(\"Connecting to database with arguments\")\n",
    "    print(args)\n",
    "    print(type(args))\n",
    "    print(args2)\n",
    "    print(type(args2))\n",
    "connect_to_db('localhost','2206','12345','35923',db_loc = 'localhost',db_port='2206',db_user=\"12345\",db_pass=\"35923\",db_pool=200)   \n"
   ]
  },
  {
   "cell_type": "code",
   "execution_count": 28,
   "id": "398aef7e",
   "metadata": {},
   "outputs": [
    {
     "name": "stdout",
     "output_type": "stream",
     "text": [
      "even\n",
      "[True]\n"
     ]
    }
   ],
   "source": [
    "def check(num1):\n",
    "    if num1 % 2 == 0:\n",
    "        print(\"even\")\n",
    "        return True\n",
    "    else:\n",
    "        print(\"odd\")\n",
    "        return False\n",
    "list1=list(map(int,input('enter numbers').split()))\n",
    "list2=list(map(check,list1))\n",
    "print(list2)    \n",
    "\n"
   ]
  },
  {
   "cell_type": "code",
   "execution_count": 38,
   "id": "764b1768",
   "metadata": {},
   "outputs": [
    {
     "name": "stdout",
     "output_type": "stream",
     "text": [
      "1\n"
     ]
    }
   ],
   "source": [
    "def check_know(num1):\n",
    "    for i in range(1,num1):\n",
    "        if i%5==2:\n",
    "            return 1\n",
    "    return 4\n",
    "res1 = check_know(5)\n",
    "print(res1)"
   ]
  },
  {
   "cell_type": "code",
   "execution_count": null,
   "id": "ff2266f4",
   "metadata": {},
   "outputs": [],
   "source": []
  },
  {
   "cell_type": "code",
   "execution_count": null,
   "id": "dc9f5c61",
   "metadata": {},
   "outputs": [],
   "source": []
  },
  {
   "cell_type": "code",
   "execution_count": null,
   "id": "de16a8e3",
   "metadata": {},
   "outputs": [],
   "source": []
  }
 ],
 "metadata": {
  "kernelspec": {
   "display_name": "Python 3",
   "language": "python",
   "name": "python3"
  },
  "language_info": {
   "codemirror_mode": {
    "name": "ipython",
    "version": 3
   },
   "file_extension": ".py",
   "mimetype": "text/x-python",
   "name": "python",
   "nbconvert_exporter": "python",
   "pygments_lexer": "ipython3",
   "version": "3.10.7"
  }
 },
 "nbformat": 4,
 "nbformat_minor": 5
}
