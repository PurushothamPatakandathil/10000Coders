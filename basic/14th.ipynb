{
 "cells": [
  {
   "cell_type": "code",
   "execution_count": 8,
   "id": "4aa9682b",
   "metadata": {},
   "outputs": [
    {
     "name": "stdout",
     "output_type": "stream",
     "text": [
      "You are not eligible to vote.\n"
     ]
    }
   ],
   "source": [
    "def vote_check(vote):\n",
    "    if vote>=18:\n",
    "        print(\"You are eligible to vote.\")\n",
    "    else:\n",
    "        print(\"You are not eligible to vote.\")\n",
    "num=int(input(\"Enter your age: \"))\n",
    "(vote_check(num))"
   ]
  },
  {
   "cell_type": "code",
   "execution_count": null,
   "id": "96411aeb",
   "metadata": {},
   "outputs": [
    {
     "name": "stdout",
     "output_type": "stream",
     "text": [
      "num3 is greater\n"
     ]
    }
   ],
   "source": [
    "num1=int(input())\n",
    "num2=int(input())\n",
    "num3=int(input())\n",
    "def check_greater(num1, num2, num3):\n",
    "    if num1 > num2 and num1 > num3:\n",
    "        print(\"num1 is greater\")\n",
    "    elif num2 > num1 and num2 > num3:\n",
    "        print(\"num2 is greater\")\n",
    "    else:\n",
    "        print(\"num3 is greater\")\n",
    "check_greater(num1,num2,num3)"
   ]
  },
  {
   "cell_type": "code",
   "execution_count": 1,
   "id": "270371bb",
   "metadata": {},
   "outputs": [
    {
     "name": "stdout",
     "output_type": "stream",
     "text": [
      "110\n"
     ]
    }
   ],
   "source": [
    "def check_greater(num1,num2,num3):\n",
    "    list=[]\n",
    "    list.append(num1)\n",
    "    list.append(num2)\n",
    "    list.append(num3)\n",
    "    sorted_list=sorted(list)\n",
    "    sum=sorted_list[-1]+sorted_list[-2]\n",
    "    return sum\n",
    "num1=int(input())\n",
    "num2=int(input())\n",
    "num3=int(input())\n",
    "result = check_greater(num1,num2,num3)\n",
    "print(result)\n",
    "\n"
   ]
  },
  {
   "cell_type": "code",
   "execution_count": null,
   "id": "69a4bb64",
   "metadata": {},
   "outputs": [
    {
     "name": "stdout",
     "output_type": "stream",
     "text": [
      "Not a palindrome\n"
     ]
    }
   ],
   "source": [
    "def is_palindrome(s):\n",
    "    s = s.lower() \n",
    "    left = 0\n",
    "    right = len(s) - 1\n",
    "    while left < right:\n",
    "        if s[left] != s[right]:\n",
    "            return False\n",
    "        left += 1\n",
    "        right -= 1\n",
    "    return True\n",
    "user_input = input(\"\")\n",
    "if is_palindrome(user_input):\n",
    "    print(\"Palindrome\")\n",
    "else:\n",
    "    print(\"Not a palindrome\")\n"
   ]
  },
  {
   "cell_type": "code",
   "execution_count": null,
   "id": "27498d63",
   "metadata": {},
   "outputs": [
    {
     "name": "stdout",
     "output_type": "stream",
     "text": [
      "Total candies: 31\n"
     ]
    }
   ],
   "source": [
    "def wrapper_sum(amount):\n",
    "    c=amount\n",
    "    w=amount\n",
    "    while w>=3:\n",
    "        e=w//3\n",
    "        c+=e\n",
    "        w=e+w%3\n",
    "    return c\n",
    "amount = int(input())\n",
    "result = wrapper_sum(amount)\n",
    "print(f\"Total candies: {result}\")"
   ]
  },
  {
   "cell_type": "code",
   "execution_count": null,
   "id": "efe0ef16",
   "metadata": {},
   "outputs": [],
   "source": [
    "l = [1,2,3,]\n",
    "for i in l:\n",
    "    if i = str\"\"\n",
    "    ch=str\"\"\n",
    "    "
   ]
  },
  {
   "cell_type": "code",
   "execution_count": null,
   "id": "c535355a",
   "metadata": {},
   "outputs": [],
   "source": []
  }
 ],
 "metadata": {
  "kernelspec": {
   "display_name": "Python 3",
   "language": "python",
   "name": "python3"
  },
  "language_info": {
   "codemirror_mode": {
    "name": "ipython",
    "version": 3
   },
   "file_extension": ".py",
   "mimetype": "text/x-python",
   "name": "python",
   "nbconvert_exporter": "python",
   "pygments_lexer": "ipython3",
   "version": "3.10.7"
  }
 },
 "nbformat": 4,
 "nbformat_minor": 5
}
